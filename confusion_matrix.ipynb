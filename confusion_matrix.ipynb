{
 "cells": [
  {
   "cell_type": "code",
   "execution_count": 5,
   "metadata": {
    "vscode": {
     "languageId": "r"
    }
   },
   "outputs": [
    {
     "name": "stdout",
     "output_type": "stream",
     "text": [
      "k-Nearest Neighbors \n",
      "\n",
      "327 samples\n",
      "  4 predictor\n",
      "  3 classes: 'Europe', 'Japan', 'US' \n",
      "\n",
      "Pre-processing: centered (4), scaled (4) \n",
      "Resampling: Cross-Validated (10 fold) \n",
      "Summary of sample sizes: 293, 294, 295, 293, 294, 295, ... \n",
      "Resampling results across tuning parameters:\n",
      "\n",
      "  k   Accuracy   Kappa    \n",
      "   3  0.7371212  0.5086317\n",
      "   6  0.7371324  0.5110265\n",
      "   8  0.7311609  0.4965310\n",
      "  10  0.7282197  0.4938256\n",
      "\n",
      "Accuracy was used to select the optimal model using the largest value.\n",
      "The final value used for the model was k = 6.\n",
      "[1] \"---------\"\n",
      "Confusion Matrix and Statistics\n",
      "\n",
      "          Reference\n",
      "Prediction Europe Japan US\n",
      "    Europe      7     2  5\n",
      "    Japan       0    12  3\n",
      "    US          4     1 45\n",
      "\n",
      "Overall Statistics\n",
      "                                          \n",
      "               Accuracy : 0.8101          \n",
      "                 95% CI : (0.7062, 0.8897)\n",
      "    No Information Rate : 0.6709          \n",
      "    P-Value [Acc > NIR] : 0.004485        \n",
      "                                          \n",
      "                  Kappa : 0.6311          \n",
      "                                          \n",
      " Mcnemar's Test P-Value : 0.374809        \n",
      "\n",
      "Statistics by Class:\n",
      "\n",
      "                     Class: Europe Class: Japan Class: US\n",
      "Sensitivity                0.63636       0.8000    0.8491\n",
      "Specificity                0.89706       0.9531    0.8077\n",
      "Pos Pred Value             0.50000       0.8000    0.9000\n",
      "Neg Pred Value             0.93846       0.9531    0.7241\n",
      "Prevalence                 0.13924       0.1899    0.6709\n",
      "Detection Rate             0.08861       0.1519    0.5696\n",
      "Detection Prevalence       0.17722       0.1899    0.6329\n",
      "Balanced Accuracy          0.76671       0.8766    0.8284\n"
     ]
    }
   ],
   "source": [
    "library(data.table)\n",
    "library(caret)\n",
    "\n",
    "dt <- fread(\"data/cars.csv\")\n",
    "dt[, Origin := as.factor(Origin)]\n",
    "\n",
    "# create train, test split\n",
    "train.index <- createDataPartition(dt$Origin, p = 0.8, list = FALSE)\n",
    "dt.train <- dt[train.index]\n",
    "dt.test <- dt[-train.index]\n",
    "\n",
    "# train control with cross validation\n",
    "ctrl <- trainControl(method = \"cv\")\n",
    "\n",
    "# train knn model with origin as target, variables are Weight, MPG, Cylinders, Horsepower\n",
    "# data = dt.train\n",
    "# data got preprocessed with centering and scaling\n",
    "# tuneGrid to find the best k \n",
    "model <- train(Origin ~ Weight + MPG + Cylinders + Horsepower, \n",
    "               data = dt.train, method = \"knn\",\n",
    "               preProcess = c(\"center\", \"scale\"),\n",
    "               tuneGrid = data.frame(k = c(3, 6, 8, 10)),\n",
    "               trControl = ctrl)\n",
    "\n",
    "# print the model\n",
    "print(model)\n",
    "print(\"---------\")\n",
    "\n",
    "# predict on test data and print confusionmatrix\n",
    "pred.test <- predict(model, dt.test)\n",
    "print(confusionMatrix(dt.test$Origin, pred.test))"
   ]
  }
 ],
 "metadata": {
  "kernelspec": {
   "display_name": "R",
   "language": "R",
   "name": "ir"
  },
  "language_info": {
   "codemirror_mode": "r",
   "file_extension": ".r",
   "mimetype": "text/x-r-source",
   "name": "R",
   "pygments_lexer": "r",
   "version": "4.4.1"
  }
 },
 "nbformat": 4,
 "nbformat_minor": 2
}
