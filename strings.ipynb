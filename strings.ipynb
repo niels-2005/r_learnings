{
 "cells": [
  {
   "cell_type": "markdown",
   "metadata": {},
   "source": [
    "# Strings"
   ]
  },
  {
   "cell_type": "markdown",
   "metadata": {},
   "source": [
    "### Matching"
   ]
  },
  {
   "cell_type": "code",
   "execution_count": 1,
   "metadata": {
    "vscode": {
     "languageId": "r"
    }
   },
   "outputs": [
    {
     "name": "stdout",
     "output_type": "stream",
     "text": [
      "[1] FALSE  TRUE  TRUE\n",
      "[1] 2 3\n",
      "[1] 0 2 1\n",
      "[1] 2\n",
      "[1] \"Banane\" \"Orange\"\n"
     ]
    }
   ],
   "source": [
    "library(stringr)\n",
    "\n",
    "s <- c(\"Apfel\", \"Banane\", \"Orange\")\n",
    "\n",
    "print(str_detect(s, \"a\"))\n",
    "print(str_which(s, \"a\"))\n",
    "print(str_count(s, \"a\"))\n",
    "\n",
    "s.2 <- c(\"xyxyxyxyxy\")\n",
    "print(str_count(s.2, \"xyx\"))\n",
    "\n",
    "print(s[str_detect(s, \"a\")])"
   ]
  },
  {
   "cell_type": "markdown",
   "metadata": {},
   "source": [
    "### some string functions"
   ]
  },
  {
   "cell_type": "code",
   "execution_count": 2,
   "metadata": {
    "vscode": {
     "languageId": "r"
    }
   },
   "outputs": [
    {
     "name": "stdout",
     "output_type": "stream",
     "text": [
      "[1] \"Banane\" \"Orange\"\n",
      "[1] \"Banane\" \"Orange\"\n",
      "[1] \"Apfel!\"  \"Banane!\" \"Orange!\"\n",
      "[1] \"Apfel!\"  \"Banane!\" \"Orange!\"\n",
      "[1] \"Apfel, Banane, Orange\"\n",
      "[1] 5 6 6\n",
      "[1] \"Apfe\" \"anan\" \"rang\"\n",
      "[1] \"AXl\"    \"BXYZne\" \"OABCge\"\n",
      "[1] \"AXl\"    \"BXYZne\" \"OABCge\"\n",
      "[1] \"AXl\"    \"BXYZne\" \"OABCge\"\n",
      "[1] \"axl\"    \"bxyzne\" \"oabcge\"\n",
      "[1] \"AXL\"    \"BXYZNE\" \"OABCGE\"\n",
      "Fusce vel eros quis velit finibus efficitur. Curabitur a libero mi. Nunc eu\n",
      "sodales erat. Donec tempus justo quam, nec porta ante interdum id. Pellentesque\n",
      "magna purus, mollis vitae gravida non, laoreet eleifend tellus. Mauris id\n",
      "condimentum lacus. Donec ut sollicitudin magna. Aliquam consectetur at elit\n",
      "sed rutrum. Integer sit amet gravida ligula, nec iaculis nisi. Donec arcu quam,\n",
      "efficitur non justo vel, ultricies auctor lectus. Nam ultricies maximus rutrum.\n",
      "Vestibulum venenatis non tellus eget aliquet. Quisque sit amet est accumsan\n",
      "tortor sollicitudin ullamcorper non eget odio. Praesent porta vulputate arcu,\n",
      "non efficitur mauris porttitor a.\n"
     ]
    }
   ],
   "source": [
    "library(stringr)\n",
    "\n",
    "s <- c(\"Apfel\", \"Banane\", \"Orange\")\n",
    "\n",
    "print(s[str_detect(s, \"a\")])\n",
    "print(str_subset(s, \"a\"))\n",
    "\n",
    "print(str_c(s, \"!\"))\n",
    "print(paste(s, \"!\", sep = \"\"))\n",
    "print(str_c(s, collapse = \", \"))\n",
    "\n",
    "print(str_length(s))\n",
    "\n",
    "print(str_sub(s, -5, -2))\n",
    "\n",
    "str_sub(s, 2, 4) <- c(\"X\", \"XYZ\", \"ABC\")\n",
    "print(s)\n",
    "\n",
    "print(str_replace(s, \"a\", \"X\"))\n",
    "print(str_replace_all(s, \"a\", \"X\"))\n",
    "\n",
    "print(str_to_lower(s, locale = \"de\"))\n",
    "print(str_to_upper(s, locale = \"de\"))\n",
    "\n",
    "l <- \"Fusce vel eros quis velit finibus efficitur. Curabitur a libero mi. Nunc eu sodales erat. Donec tempus justo quam, nec porta ante interdum id. Pellentesque magna purus, mollis vitae gravida non, laoreet eleifend tellus. Mauris id condimentum lacus. Donec ut sollicitudin magna. Aliquam consectetur at elit sed rutrum. Integer sit amet gravida ligula, nec iaculis nisi. Donec arcu quam, efficitur non justo vel, ultricies auctor lectus. Nam ultricies maximus rutrum. Vestibulum venenatis non tellus eget aliquet. Quisque sit amet est accumsan tortor sollicitudin ullamcorper non eget odio. Praesent porta vulputate arcu, non efficitur mauris porttitor a.\"\n",
    "writeLines(str_wrap(l))"
   ]
  },
  {
   "cell_type": "markdown",
   "metadata": {},
   "source": [
    "### regular expressions"
   ]
  },
  {
   "cell_type": "code",
   "execution_count": 4,
   "metadata": {
    "vscode": {
     "languageId": "r"
    }
   },
   "outputs": [
    {
     "name": "stdout",
     "output_type": "stream",
     "text": [
      "\u001b[90m[1] │\u001b[39m A\u001b[36m<BCD>\u001b[39m\n",
      "\u001b[90m[2] │\u001b[39m A\u001b[36m<BD>\u001b[39m\n"
     ]
    }
   ],
   "source": [
    "s <- c(\"ABCD\", \"ABD\")\n",
    "\n",
    "print(str_view(s, \"BC?D\"))"
   ]
  },
  {
   "cell_type": "code",
   "execution_count": null,
   "metadata": {
    "vscode": {
     "languageId": "r"
    }
   },
   "outputs": [],
   "source": []
  }
 ],
 "metadata": {
  "kernelspec": {
   "display_name": "R",
   "language": "R",
   "name": "ir"
  },
  "language_info": {
   "codemirror_mode": "r",
   "file_extension": ".r",
   "mimetype": "text/x-r-source",
   "name": "R",
   "pygments_lexer": "r",
   "version": "4.4.1"
  }
 },
 "nbformat": 4,
 "nbformat_minor": 2
}
