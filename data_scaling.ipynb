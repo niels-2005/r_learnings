{
 "cells": [
  {
   "cell_type": "code",
   "execution_count": 1,
   "metadata": {
    "vscode": {
     "languageId": "r"
    }
   },
   "outputs": [
    {
     "name": "stderr",
     "output_type": "stream",
     "text": [
      "Loading required package: ggplot2\n",
      "\n",
      "Loading required package: lattice\n",
      "\n"
     ]
    },
    {
     "name": "stdout",
     "output_type": "stream",
     "text": [
      "     Europe Japan        US\n",
      "1 0.0000000   0.0 1.0000000\n",
      "2 0.1666667   0.5 0.3333333\n"
     ]
    }
   ],
   "source": [
    "library(data.table)\n",
    "library(caret)\n",
    "\n",
    "dt <- fread(\"data/cars.csv\")\n",
    "dt[, Origin := as.factor(Origin)]\n",
    "\n",
    "# train control with cross validation\n",
    "ctrl <- trainControl(method = \"cv\")\n",
    "\n",
    "# train knn model with Origin as target, Variables are Weight + MPG\n",
    "# preProcess = Data get centered and scaled\n",
    "# tuneGrid for finding the best k\n",
    "model <- train(Origin ~ Weight + MPG, data = dt, method = \"knn\",\n",
    "               preProcess = c(\"center\", \"scale\"),\n",
    "               tuneGrid = data.frame(k = c(3, 6, 8, 10)),\n",
    "               trControl = ctrl)\n",
    "\n",
    "# create new data and do predictions on it, return values as probabilites\n",
    "my.cars <- data.table(Weight = c(3500, 2000), MPG = c(20, 10))\n",
    "print(predict(model, newdata = my.cars, type = \"prob\"))"
   ]
  }
 ],
 "metadata": {
  "kernelspec": {
   "display_name": "R",
   "language": "R",
   "name": "ir"
  },
  "language_info": {
   "codemirror_mode": "r",
   "file_extension": ".r",
   "mimetype": "text/x-r-source",
   "name": "R",
   "pygments_lexer": "r",
   "version": "4.4.1"
  }
 },
 "nbformat": 4,
 "nbformat_minor": 2
}
