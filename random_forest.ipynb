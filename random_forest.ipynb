{
 "cells": [
  {
   "cell_type": "code",
   "execution_count": 4,
   "metadata": {
    "vscode": {
     "languageId": "r"
    }
   },
   "outputs": [
    {
     "name": "stdout",
     "output_type": "stream",
     "text": [
      "Confusion Matrix and Statistics\n",
      "\n",
      "          Reference\n",
      "Prediction Europe Japan US\n",
      "    Europe      8     1  4\n",
      "    Japan       4    15  4\n",
      "    US          6     3 55\n",
      "\n",
      "Overall Statistics\n",
      "                                          \n",
      "               Accuracy : 0.78            \n",
      "                 95% CI : (0.6861, 0.8567)\n",
      "    No Information Rate : 0.63            \n",
      "    P-Value [Acc > NIR] : 0.0009476       \n",
      "                                          \n",
      "                  Kappa : 0.5847          \n",
      "                                          \n",
      " Mcnemar's Test P-Value : 0.5043604       \n",
      "\n",
      "Statistics by Class:\n",
      "\n",
      "                     Class: Europe Class: Japan Class: US\n",
      "Sensitivity                 0.4444       0.7895    0.8730\n",
      "Specificity                 0.9390       0.9012    0.7568\n",
      "Pos Pred Value              0.6154       0.6522    0.8594\n",
      "Neg Pred Value              0.8851       0.9481    0.7778\n",
      "Prevalence                  0.1800       0.1900    0.6300\n",
      "Detection Rate              0.0800       0.1500    0.5500\n",
      "Detection Prevalence        0.1300       0.2300    0.6400\n",
      "Balanced Accuracy           0.6917       0.8454    0.8149\n"
     ]
    }
   ],
   "source": [
    "library(data.table)\n",
    "library(caret)\n",
    "library(rpart.plot)\n",
    "\n",
    "dt <- fread(\"data/cars.csv\")\n",
    "dt[, Origin := as.factor(Origin)]\n",
    "\n",
    "# train test split\n",
    "train.index <- createDataPartition(dt$Origin, p = 0.75, list = FALSE)\n",
    "dt.train <- dt[train.index]\n",
    "dt.test <- dt[-train.index]\n",
    "\n",
    "# train random forest model\n",
    "# train control with repeated cross validation\n",
    "model <- train(Origin ~ Weight + MPG + Cylinders + Horsepower + Acceleration, \n",
    "               data = dt.train, method = \"rf\", trControl = trainControl(\"repeatedcv\"))\n",
    "\n",
    "# predict on test data and print confusionmatrix\n",
    "pred.test <- predict(model, newdata = dt.test)\n",
    "print(confusionMatrix(pred.test, dt.test$Origin))"
   ]
  },
  {
   "cell_type": "code",
   "execution_count": null,
   "metadata": {
    "vscode": {
     "languageId": "r"
    }
   },
   "outputs": [],
   "source": []
  }
 ],
 "metadata": {
  "kernelspec": {
   "display_name": "R",
   "language": "R",
   "name": "ir"
  },
  "language_info": {
   "codemirror_mode": "r",
   "file_extension": ".r",
   "mimetype": "text/x-r-source",
   "name": "R",
   "pygments_lexer": "r",
   "version": "4.4.1"
  }
 },
 "nbformat": 4,
 "nbformat_minor": 2
}
