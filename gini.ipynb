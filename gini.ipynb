{
 "cells": [
  {
   "cell_type": "code",
   "execution_count": 1,
   "metadata": {
    "vscode": {
     "languageId": "r"
    }
   },
   "outputs": [
    {
     "name": "stdout",
     "output_type": "stream",
     "text": [
      "[1] 0.5454264\n",
      "[1] 0.9165556\n",
      "[1] 1.2996\n"
     ]
    }
   ],
   "source": [
    "library(DescTools)\n",
    "\n",
    "# Gini describes inbalance in the data\n",
    "\n",
    "print(Gini(c(25000, 15000, 10000, 5000, 1)))\n",
    "\n",
    "print(Gini(c(25000, 15000)) + Gini(c(10000, 5000, 1)))\n",
    "print(Gini(c(25000, 15000, 10000)) + Gini(c(5000, 1)))"
   ]
  }
 ],
 "metadata": {
  "kernelspec": {
   "display_name": "R",
   "language": "R",
   "name": "ir"
  },
  "language_info": {
   "codemirror_mode": "r",
   "file_extension": ".r",
   "mimetype": "text/x-r-source",
   "name": "R",
   "pygments_lexer": "r",
   "version": "4.4.1"
  }
 },
 "nbformat": 4,
 "nbformat_minor": 2
}
