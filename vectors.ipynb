{
 "cells": [
  {
   "cell_type": "markdown",
   "metadata": {},
   "source": [
    "# Introduction Vectors"
   ]
  },
  {
   "cell_type": "code",
   "execution_count": 1,
   "metadata": {
    "vscode": {
     "languageId": "r"
    }
   },
   "outputs": [
    {
     "name": "stdout",
     "output_type": "stream",
     "text": [
      "[1]  TRUE FALSE\n"
     ]
    }
   ],
   "source": [
    "v <- c(123, 150)\n",
    "print(v == 123)"
   ]
  },
  {
   "cell_type": "markdown",
   "metadata": {},
   "source": [
    "### Accessing elements"
   ]
  },
  {
   "cell_type": "code",
   "execution_count": 4,
   "metadata": {
    "vscode": {
     "languageId": "r"
    }
   },
   "outputs": [
    {
     "name": "stdout",
     "output_type": "stream",
     "text": [
      "[1] 2\n",
      "[1] 1 2 3\n",
      "[1]  2  3  4  5  6  7  8  9 10\n"
     ]
    }
   ],
   "source": [
    "v <- c(1, 2, 3, 4, 5, 6, 7, 8, 9, 10)\n",
    "\n",
    "print(v[2])\n",
    "\n",
    "print(v[1:3])\n",
    "print(v[-1])"
   ]
  },
  {
   "cell_type": "markdown",
   "metadata": {},
   "source": [
    "### Vectors and paste"
   ]
  },
  {
   "cell_type": "code",
   "execution_count": 9,
   "metadata": {
    "vscode": {
     "languageId": "r"
    }
   },
   "outputs": [
    {
     "name": "stdout",
     "output_type": "stream",
     "text": [
      "[1] \"1 abcd 5 abcd 6\"\n"
     ]
    }
   ],
   "source": [
    "msg <- c(1, 5, 6)\n",
    "\n",
    "print(paste(msg, collapse = \" abcd \"))"
   ]
  },
  {
   "cell_type": "markdown",
   "metadata": {},
   "source": [
    "### Numeric Vectors"
   ]
  },
  {
   "cell_type": "code",
   "execution_count": 13,
   "metadata": {
    "vscode": {
     "languageId": "r"
    }
   },
   "outputs": [
    {
     "name": "stdout",
     "output_type": "stream",
     "text": [
      "[1] 5 4 3 2 1\n",
      "[1] \"Paula\"  \"Monika\" \"Moritz\"\n",
      "[1] 1 4\n",
      "[1] 0 0 0 0 0\n",
      "[1] FALSE FALSE FALSE FALSE FALSE\n",
      "[1] \"\" \"\" \"\" \"\" \"\"\n"
     ]
    }
   ],
   "source": [
    "print(5:1)\n",
    "\n",
    "names <- c(\"Max\", \"Moritz\", \"Monika\", \"Paula\")\n",
    "print(names[4:2])\n",
    "\n",
    "# 1 - 5 with 3 difference\n",
    "print(seq(1, 5, by = 3))\n",
    "\n",
    "print(numeric(5))\n",
    "print(logical(5))\n",
    "print(character(5))"
   ]
  },
  {
   "cell_type": "markdown",
   "metadata": {},
   "source": [
    "### Changing Vectors"
   ]
  },
  {
   "cell_type": "code",
   "execution_count": 19,
   "metadata": {
    "vscode": {
     "languageId": "r"
    }
   },
   "outputs": [
    {
     "name": "stdout",
     "output_type": "stream",
     "text": [
      "[1] \"Max\"      \"Erika\"    \"Moritz\"   \"Tobias\"   \"Andrea\"   \"Paula\"    \"Stefanie\"\n",
      "[8] \"Torsten\" \n",
      "[1] \"Maximilian\" \"Erik\"       \"Maximilian\" \"Erik\"       \"Andrea\"    \n",
      "[6] \"Paula\"      \"Stefanie\"   \"Torsten\"   \n"
     ]
    }
   ],
   "source": [
    "names <- c(\"Max\", \"Erika\", \"Moritz\", \"Paula\", \"Stefanie\", \"Torsten\")\n",
    "\n",
    "# append names after third element\n",
    "names <- append(names, c(\"Tobias\", \"Andrea\"), after = 3)\n",
    "print(names)\n",
    "\n",
    "names[1:4] <- c(\"Maximilian\", \"Erik\")\n",
    "print(names)"
   ]
  },
  {
   "cell_type": "markdown",
   "metadata": {},
   "source": [
    "### Build In Functions"
   ]
  },
  {
   "cell_type": "code",
   "execution_count": 20,
   "metadata": {
    "vscode": {
     "languageId": "r"
    }
   },
   "outputs": [
    {
     "name": "stdout",
     "output_type": "stream",
     "text": [
      "[1] 6\n",
      "[1] \"Moritz\"   \"Paula\"    \"Stefanie\" \"Torsten\" \n",
      "[1] \"character\"\n",
      "[1] 2\n",
      "[1] FALSE\n",
      "[1] FALSE\n",
      "[1] 2\n",
      "[1] FALSE\n"
     ]
    }
   ],
   "source": [
    "names <- c(\"Max\", \"Erika\", \"Moritz\", \"Paula\", \"Stefanie\", \"Torsten\")\n",
    "print(length(names))\n",
    "\n",
    "print(names[3:length(names)])\n",
    "# type\n",
    "print(class(names))\n",
    "\n",
    "# Erika in names?\n",
    "pos <- match(\"Erika\", names)\n",
    "print(pos)\n",
    "print(is.na(pos))\n",
    "\n",
    "# in names any Maximilian?\n",
    "print(any(names == \"Maximilian\"))\n",
    "\n",
    "# sum the names beginning with \"M\"\n",
    "print(sum(substr(names, 1, 1) == \"M\"))\n",
    "\n",
    "print(all(c(T, F, T)))"
   ]
  },
  {
   "cell_type": "markdown",
   "metadata": {},
   "source": [
    "### List of participants"
   ]
  },
  {
   "cell_type": "code",
   "execution_count": 22,
   "metadata": {
    "vscode": {
     "languageId": "r"
    }
   },
   "outputs": [
    {
     "name": "stdout",
     "output_type": "stream",
     "text": [
      "  [1] \"Max\"      \"Erika\"    \"Moritz\"   \"Paula\"    \"Stefanie\" \"Torsten\" \n",
      "  [7] \"\"         \"\"         \"\"         \"\"         \"\"         \"\"        \n",
      " [13] \"\"         \"\"         \"\"         \"\"         \"\"         \"\"        \n",
      " [19] \"\"         \"\"         \"\"         \"\"         \"\"         \"\"        \n",
      " [25] \"\"         \"\"         \"\"         \"\"         \"\"         \"\"        \n",
      " [31] \"\"         \"\"         \"\"         \"\"         \"\"         \"\"        \n",
      " [37] \"\"         \"\"         \"\"         \"\"         \"\"         \"\"        \n",
      " [43] \"\"         \"\"         \"\"         \"\"         \"\"         \"\"        \n",
      " [49] \"\"         \"\"         \"\"         \"\"         \"\"         \"\"        \n",
      " [55] \"\"         \"\"         \"\"         \"\"         \"\"         \"\"        \n",
      " [61] \"\"         \"\"         \"\"         \"\"         \"\"         \"\"        \n",
      " [67] \"\"         \"\"         \"\"         \"\"         \"\"         \"\"        \n",
      " [73] \"\"         \"\"         \"\"         \"\"         \"\"         \"\"        \n",
      " [79] \"\"         \"\"         \"\"         \"\"         \"\"         \"\"        \n",
      " [85] \"\"         \"\"         \"\"         \"\"         \"\"         \"\"        \n",
      " [91] \"\"         \"\"         \"\"         \"\"         \"\"         \"\"        \n",
      " [97] \"\"         \"\"         \"\"         \"\"        \n",
      "  [1] \"Max\"      \"Erika\"    \"Moritz\"   \"Paula\"    \"Stefanie\" \"Torsten\" \n",
      "  [7] \"Jan\"      \"Frank\"    \"\"         \"\"         \"\"         \"\"        \n",
      " [13] \"\"         \"\"         \"\"         \"\"         \"\"         \"\"        \n",
      " [19] \"\"         \"\"         \"\"         \"\"         \"\"         \"\"        \n",
      " [25] \"\"         \"\"         \"\"         \"\"         \"\"         \"\"        \n",
      " [31] \"\"         \"\"         \"\"         \"\"         \"\"         \"\"        \n",
      " [37] \"\"         \"\"         \"\"         \"\"         \"\"         \"\"        \n",
      " [43] \"\"         \"\"         \"\"         \"\"         \"\"         \"\"        \n",
      " [49] \"\"         \"\"         \"\"         \"\"         \"\"         \"\"        \n",
      " [55] \"\"         \"\"         \"\"         \"\"         \"\"         \"\"        \n",
      " [61] \"\"         \"\"         \"\"         \"\"         \"\"         \"\"        \n",
      " [67] \"\"         \"\"         \"\"         \"\"         \"\"         \"\"        \n",
      " [73] \"\"         \"\"         \"\"         \"\"         \"\"         \"\"        \n",
      " [79] \"\"         \"\"         \"\"         \"\"         \"\"         \"\"        \n",
      " [85] \"\"         \"\"         \"\"         \"\"         \"\"         \"\"        \n",
      " [91] \"\"         \"\"         \"\"         \"\"         \"\"         \"\"        \n",
      " [97] \"\"         \"\"         \"\"         \"\"        \n"
     ]
    }
   ],
   "source": [
    "# 100 Characters\n",
    "names <- character(100)\n",
    "names[1:6] <- c(\"Max\", \"Erika\", \"Moritz\", \"Paula\", \"Stefanie\", \"Torsten\")\n",
    "print(names)\n",
    "\n",
    "# first free place should be \"Jan\"\n",
    "pos <- match(\"\", names)\n",
    "names[pos] <- \"Jan\"\n",
    "\n",
    "# second free place should be \"Frank\"\n",
    "pos <- pos + 1\n",
    "names[pos] <- \"Frank\"\n",
    "print(names)"
   ]
  },
  {
   "cell_type": "markdown",
   "metadata": {},
   "source": [
    "### Logical Indexing"
   ]
  },
  {
   "cell_type": "code",
   "execution_count": 24,
   "metadata": {
    "vscode": {
     "languageId": "r"
    }
   },
   "outputs": [
    {
     "name": "stdout",
     "output_type": "stream",
     "text": [
      "[1] FALSE  TRUE  TRUE FALSE\n",
      "[1] \"Erika\"  \"Moritz\"\n"
     ]
    }
   ],
   "source": [
    "names <- c(\"Max\", \"Erika\", \"Moritz\", \"Jan\")\n",
    "\n",
    "# which names have more than 3 elements?\n",
    "print(nchar(names) > 3)\n",
    "\n",
    "# print names with more than 3 elements\n",
    "print(names[nchar(names) > 3])"
   ]
  },
  {
   "cell_type": "code",
   "execution_count": 25,
   "metadata": {
    "vscode": {
     "languageId": "r"
    }
   },
   "outputs": [
    {
     "name": "stdout",
     "output_type": "stream",
     "text": [
      "[1] 14\n",
      "[1] \"Anton\"   \"Torsten\"\n",
      "[1] \"Anton 17\"   \"Laura 19\"   \"Anna 21\"    \"Torsten 17\" \"Viktor 18\" \n",
      "[6] \"Eva 22\"    \n"
     ]
    }
   ],
   "source": [
    "# 1) Bei den Zahlen zwischen 1 und 100, wie viele Zahlen sind durch 7\n",
    "#    teilbar? Hinweis: Du kannst den Rest ueber den Modulo-Operator \n",
    "#    bestimmen (100 %% 7 gibt z.B. den Rest aus, wenn 100 durch 7 \n",
    "#    geteilt wird). \n",
    "#    Berechne diese Zahl mit Hilfe von R!\n",
    "res <- 1:100 %% 7 == 0\n",
    "# print(length(res[res]))\n",
    "print(sum(res))\n",
    "\n",
    "# 2) Fuer eine Party wurde eine Teilnehmerliste sowie eine Altersliste\n",
    "#    erstellt. Zudem wurde zu jedem Teilnehmer das Alter erfasst.\n",
    "#    Es gilt: Zur Person people.names[1] steht das Alter in \n",
    "#    people.ages[1].\n",
    "#\n",
    "#    Jetzt sollen Cocktails ausgeschenkt werden - welchen Teilnemern\n",
    "#    duerfen wir keine Cocktails ausschenken (Alter < 18)? \n",
    "#\n",
    "#    Generiere diese Auflistung!\n",
    "people.names <- c(\"Anton\", \"Laura\", \"Anna\", \"Torsten\", \"Viktor\", \"Eva\")\n",
    "people.ages <- c(17, 19, 21, 17, 18, 22)\n",
    "\n",
    "print(people.names[people.ages < 18])\n",
    "\n",
    "# 2b) Kombiniere Name + Alter und gebe die Datensaetze dann mit Hilfe der\n",
    "#     paste()-Funktion aus! Beachte hierbei, dass paste() auch auf\n",
    "#     Vektoren angewandt werden kann.\n",
    "s <- paste(people.names, people.ages)\n",
    "print(s)"
   ]
  },
  {
   "cell_type": "markdown",
   "metadata": {},
   "source": [
    "### Apply Vectors"
   ]
  },
  {
   "cell_type": "code",
   "execution_count": 31,
   "metadata": {
    "vscode": {
     "languageId": "r"
    }
   },
   "outputs": [
    {
     "name": "stdout",
     "output_type": "stream",
     "text": [
      "[1] \"Wohnungspreise Muenchen: 1990 - 2020\"\n"
     ]
    },
    {
     "data": {
      "image/png": "[encoded data removed]",
      "text/plain": [
       "Plot with title “Wohnungspreise Muenchen: 1990 - 2020”"
      ]
     },
     "metadata": {
      "image/png": {
       "height": 420,
       "width": 420
      }
     },
     "output_type": "display_data"
    }
   ],
   "source": [
    "data.x <- c(1990, 1995, 2000, 2005, 2010, 2015, 2020)\n",
    "data.y <- c(400, 450, 500, 600, 700, 900, 1000)\n",
    "\n",
    "# year - year\n",
    "title <- paste(\"Wohnungspreise Muenchen:\", data.x[1], \"-\", data.x[length(data.x)])\n",
    "print(title)\n",
    "\n",
    "# x, y\n",
    "plot(data.x, data.y, type = \"b\", main = title, xlab = \"Jahr\", ylab = \"Preis\")"
   ]
  },
  {
   "cell_type": "markdown",
   "metadata": {},
   "source": [
    "### Apply Vectors (2)"
   ]
  },
  {
   "cell_type": "code",
   "execution_count": 32,
   "metadata": {
    "vscode": {
     "languageId": "r"
    }
   },
   "outputs": [
    {
     "name": "stdout",
     "output_type": "stream",
     "text": [
      "[1] \"Wohnungspreise Muenchen: 1990 - 2020\"\n"
     ]
    },
    {
     "data": {
      "image/png": "[encoded data removed]",
      "text/plain": [
       "Plot with title “Wohnungspreise Muenchen: 1990 - 2020”"
      ]
     },
     "metadata": {
      "image/png": {
       "height": 420,
       "width": 420
      }
     },
     "output_type": "display_data"
    }
   ],
   "source": [
    "data.x <- c(1990, 1995, 2000, 2005, 2010, 2015, 2020)\n",
    "data.y <- c(400, 450, 500, 600, 700, 900, 1000)\n",
    "\n",
    "title <- paste(\"Wohnungspreise Muenchen:\", \n",
    "               data.x[1], \n",
    "               \"-\", \n",
    "               data.x[length(data.x)])\n",
    "print(title)\n",
    "\n",
    "\n",
    "plot(data.x,\n",
    "     data.y, \n",
    "     type = \"b\", \n",
    "     main = title, \n",
    "     xgap.axis = 10,\n",
    "     xlab = \"Jahr\", \n",
    "     ylab = \"Preis\",\n",
    "     col = \"red\")"
   ]
  },
  {
   "cell_type": "code",
   "execution_count": null,
   "metadata": {
    "vscode": {
     "languageId": "r"
    }
   },
   "outputs": [],
   "source": []
  }
 ],
 "metadata": {
  "kernelspec": {
   "display_name": "R",
   "language": "R",
   "name": "ir"
  },
  "language_info": {
   "codemirror_mode": "r",
   "file_extension": ".r",
   "mimetype": "text/x-r-source",
   "name": "R",
   "pygments_lexer": "r",
   "version": "4.4.1"
  }
 },
 "nbformat": 4,
 "nbformat_minor": 2
}
