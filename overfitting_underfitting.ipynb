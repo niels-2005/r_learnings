{
 "cells": [
  {
   "cell_type": "code",
   "execution_count": 2,
   "metadata": {
    "vscode": {
     "languageId": "r"
    }
   },
   "outputs": [
    {
     "name": "stdout",
     "output_type": "stream",
     "text": [
      "Accuracy \n",
      "0.764526 \n",
      " Accuracy \n",
      "0.6962025 \n"
     ]
    }
   ],
   "source": [
    "library(data.table)\n",
    "library(caret)\n",
    "\n",
    "dt <- fread(\"data/cars.csv\")\n",
    "dt[, Origin := as.factor(Origin)]\n",
    "\n",
    "# create train test split\n",
    "train.index <- createDataPartition(dt$Origin, p = 0.8, list = FALSE)\n",
    "dt.train <- dt[train.index]\n",
    "dt.test <- dt[-train.index]\n",
    "\n",
    "# train control with crossvalidation\n",
    "ctrl <- trainControl(method = \"cv\")\n",
    "\n",
    "# train knn model with origin as target, variables are Weight + MPG\n",
    "# data get preprocessed with centering and scaling\n",
    "# hyperparameter tuning to find best k\n",
    "model <- train(Origin ~ Weight + MPG, \n",
    "               data = dt.train, method = \"knn\",\n",
    "               preProcess = c(\"center\", \"scale\"),\n",
    "               tuneGrid = data.frame(k = c(6, 8, 10)),\n",
    "               trControl = ctrl)\n",
    "\n",
    "# predict on trained data, get only Accuracy\n",
    "pred.train <- predict(model, dt.train)\n",
    "print(confusionMatrix(dt.train$Origin, pred.train)$overall[\"Accuracy\"])\n",
    "\n",
    "# predict on test data, get only Accuracy\n",
    "pred.test <- predict(model, dt.test)\n",
    "print(confusionMatrix(dt.test$Origin, pred.test)$overall[\"Accuracy\"])"
   ]
  }
 ],
 "metadata": {
  "kernelspec": {
   "display_name": "R",
   "language": "R",
   "name": "ir"
  },
  "language_info": {
   "codemirror_mode": "r",
   "file_extension": ".r",
   "mimetype": "text/x-r-source",
   "name": "R",
   "pygments_lexer": "r",
   "version": "4.4.1"
  }
 },
 "nbformat": 4,
 "nbformat_minor": 2
}
