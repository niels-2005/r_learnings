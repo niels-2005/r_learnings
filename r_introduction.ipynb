{
 "cells": [
  {
   "cell_type": "markdown",
   "metadata": {},
   "source": [
    "# Introduction R"
   ]
  },
  {
   "cell_type": "code",
   "execution_count": 1,
   "metadata": {
    "vscode": {
     "languageId": "r"
    }
   },
   "outputs": [
    {
     "name": "stdout",
     "output_type": "stream",
     "text": [
      "[1] 12\n",
      "[1] \"Hallo Welt\"\n"
     ]
    }
   ],
   "source": [
    "print(12)\n",
    "print(\"Hallo Welt\")"
   ]
  },
  {
   "cell_type": "markdown",
   "metadata": {},
   "source": [
    "### Variables"
   ]
  },
  {
   "cell_type": "code",
   "execution_count": 2,
   "metadata": {
    "vscode": {
     "languageId": "r"
    }
   },
   "outputs": [
    {
     "name": "stdout",
     "output_type": "stream",
     "text": [
      "[1] \"Hallo Welt\"\n"
     ]
    }
   ],
   "source": [
    "message <- \"Hallo Welt\"\n",
    "print(message)"
   ]
  },
  {
   "cell_type": "markdown",
   "metadata": {},
   "source": [
    "### Numbers"
   ]
  },
  {
   "cell_type": "code",
   "execution_count": 3,
   "metadata": {
    "vscode": {
     "languageId": "r"
    }
   },
   "outputs": [
    {
     "name": "stdout",
     "output_type": "stream",
     "text": [
      "[1] 3072\n",
      "[1] 25\n",
      "[1] -1\n",
      "[1] 156\n",
      "[1] 0.9230769\n",
      "[1] 1024\n",
      "[1] 1\n"
     ]
    }
   ],
   "source": [
    "res <- 2 ** 10\n",
    "print(res * 3)\n",
    "\n",
    "print(12 + 13)\n",
    "print(12 - 13)\n",
    "print(12 * 13)\n",
    "print(12 / 13)\n",
    "\n",
    "print(2 ** 10)\n",
    "print(11 %% 2)"
   ]
  },
  {
   "cell_type": "markdown",
   "metadata": {},
   "source": [
    "### Strings (1)"
   ]
  },
  {
   "cell_type": "code",
   "execution_count": 4,
   "metadata": {
    "vscode": {
     "languageId": "r"
    }
   },
   "outputs": [
    {
     "name": "stdout",
     "output_type": "stream",
     "text": [
      "[1] \"Hallo\"\n",
      "[1] \"Welt\"\n",
      "[1] \"Hallo Welt !\"\n"
     ]
    }
   ],
   "source": [
    "print(\"Hallo\")\n",
    "print(\"Welt\")\n",
    "\n",
    "msg <- paste(\"Hallo\", \"Welt\", \"!\")\n",
    "print(msg)"
   ]
  },
  {
   "cell_type": "markdown",
   "metadata": {},
   "source": [
    "### Strings (2)"
   ]
  },
  {
   "cell_type": "code",
   "execution_count": 5,
   "metadata": {
    "vscode": {
     "languageId": "r"
    }
   },
   "outputs": [
    {
     "name": "stdout",
     "output_type": "stream",
     "text": [
      "[1] \"Hallo\"\n",
      "[1] \"Welt\"\n",
      "[1] \"Hallo Welt!\"\n"
     ]
    }
   ],
   "source": [
    "print(\"Hallo\")\n",
    "print(\"Welt\")\n",
    "\n",
    "msg <- paste(\"Hallo\", \" \", \"Welt\", \"!\", sep = \"\")\n",
    "print(msg)"
   ]
  },
  {
   "cell_type": "markdown",
   "metadata": {},
   "source": [
    "### Strings (3)"
   ]
  },
  {
   "cell_type": "code",
   "execution_count": 7,
   "metadata": {
    "vscode": {
     "languageId": "r"
    }
   },
   "outputs": [
    {
     "name": "stdout",
     "output_type": "stream",
     "text": [
      "[1] 10\n",
      "[1] \"HALLO WELT\"\n"
     ]
    },
    {
     "name": "stdout",
     "output_type": "stream",
     "text": [
      "[1] \"hallo welt\"\n",
      "[1] \"Hallo\"\n",
      "[1] \"Welt\"\n",
      "[1] \"Hallo Mars\"\n"
     ]
    }
   ],
   "source": [
    "s <- \"Hallo Welt\"\n",
    "\n",
    "print(nchar(s))\n",
    "\n",
    "s.upper <- toupper(s)\n",
    "print(s.upper)\n",
    "\n",
    "print(tolower(s))\n",
    "\n",
    "w <- substr(s, start = 1, stop = 5)\n",
    "print(w)\n",
    "\n",
    "w2 <- substr(s, start = 7, stop = 10)\n",
    "print(w2)\n",
    "\n",
    "f <- sub(\"Welt\", \"Mars\", \"Hallo Welt\")\n",
    "print(f)"
   ]
  },
  {
   "cell_type": "markdown",
   "metadata": {},
   "source": [
    "### Exercise Strings"
   ]
  },
  {
   "cell_type": "code",
   "execution_count": 10,
   "metadata": {
    "vscode": {
     "languageId": "r"
    }
   },
   "outputs": [
    {
     "name": "stdout",
     "output_type": "stream",
     "text": [
      "[1] \"Hallo Welt\"\n",
      "[1] \"Hallo Welt\"\n",
      "[1] \"Hallo Welt\"\n"
     ]
    }
   ],
   "source": [
    "# Entferne diese Symbole \"-\"\n",
    "s <- \"---Hallo Welt---\"\n",
    "\n",
    "print(gsub(\"-\", \"\", s))\n",
    "\n",
    "print(substr(s, 4, 13))\n",
    "\n",
    "pos <- nchar(s) - 3\n",
    "print(substr(s, 4, pos))"
   ]
  },
  {
   "cell_type": "markdown",
   "metadata": {},
   "source": [
    "### Booleans"
   ]
  },
  {
   "cell_type": "code",
   "execution_count": 12,
   "metadata": {
    "vscode": {
     "languageId": "r"
    }
   },
   "outputs": [
    {
     "name": "stdout",
     "output_type": "stream",
     "text": [
      "[1] TRUE\n",
      "[1] TRUE\n"
     ]
    },
    {
     "name": "stdout",
     "output_type": "stream",
     "text": [
      "[1] FALSE\n",
      "[1] FALSE\n",
      "[1] FALSE\n",
      "[1] TRUE\n",
      "[1] FALSE\n",
      "[1] TRUE\n"
     ]
    }
   ],
   "source": [
    "z <- 5\n",
    "\n",
    "print(z < 10)\n",
    "print(z <= 10)\n",
    "print(z > 10)\n",
    "print(z >= 10)\n",
    "\n",
    "print(z == 10)\n",
    "print(z != 10)\n",
    "\n",
    "name <- \"Maximilian\"\n",
    "print(name == \"Max\")\n",
    "print(name != \"Max\")"
   ]
  },
  {
   "cell_type": "markdown",
   "metadata": {},
   "source": [
    "### Change Types"
   ]
  },
  {
   "cell_type": "code",
   "execution_count": 13,
   "metadata": {
    "vscode": {
     "languageId": "r"
    }
   },
   "outputs": [
    {
     "name": "stdout",
     "output_type": "stream",
     "text": [
      "[1] 50\n",
      "[1] 50.5\n",
      "[1] 50.5\n",
      "[1] \"0\"\n",
      "[1] FALSE\n"
     ]
    }
   ],
   "source": [
    "age <- \"45.5\"\n",
    "\n",
    "print(as.integer(age) + 5) # Ganze Zahl\n",
    "print(as.double(age) + 5) # Kommazahl\n",
    "print(as.numeric(age) + 5) # Zahl\n",
    "\n",
    "z <- 0\n",
    "print(as.character(z)) # String / Character\n",
    "print(as.logical(z)) # TRUE / FALSE"
   ]
  },
  {
   "cell_type": "markdown",
   "metadata": {},
   "source": [
    "### Readline"
   ]
  },
  {
   "cell_type": "code",
   "execution_count": 14,
   "metadata": {
    "vscode": {
     "languageId": "r"
    }
   },
   "outputs": [
    {
     "name": "stdout",
     "output_type": "stream",
     "text": [
      "[1] \"Niels\"\n"
     ]
    }
   ],
   "source": [
    "name <- readline(\"Bitte Name eingeben:\")\n",
    "\n",
    "print(readline(\"Bitte Name eingeben:\"))"
   ]
  },
  {
   "cell_type": "markdown",
   "metadata": {},
   "source": [
    "### Exercise Readline"
   ]
  },
  {
   "cell_type": "code",
   "execution_count": 15,
   "metadata": {
    "vscode": {
     "languageId": "r"
    }
   },
   "outputs": [
    {
     "name": "stdout",
     "output_type": "stream",
     "text": [
      "[1] \"Name: Niels\"\n",
      "[1] \"Alter: 20\"\n",
      "[1] \"Newsletter: FALSE\"\n",
      "[1] \"Alkohol erlaubt: TRUE\"\n"
     ]
    }
   ],
   "source": [
    "# Lese folgende Informationen zu einem Teilnehmer ein. Verwende\n",
    "# dazu mehrere readline()-Aufrufe:\n",
    "# \n",
    "#  - Name (String)\n",
    "#  - Alter (Ganze Zahl)\n",
    "#  - Newsletter? (Ja / Nein - Wert) (as.logical())\n",
    "name <- readline(\"Bitte Name eingeben: \")\n",
    "age <- as.integer(readline(\"Bitte Alter eingeben: \"))\n",
    "newsletter.input <- readline(\"Newsletter erlaubt (0 / 1)?\")\n",
    "newsletter <- newsletter.input == \"1\"\n",
    "\n",
    "# Gebe anschliessend folgende Informationen zu diesem Teilnehmer\n",
    "# aus:\n",
    "#  - Name, Alter, Newsletter\n",
    "#  - Darf Alkohol trinken (Alter groesser-gleich 18)\n",
    "\n",
    "print(paste(\"Name:\", name))\n",
    "print(paste(\"Alter:\", age))\n",
    "print(paste(\"Newsletter:\", newsletter))\n",
    "\n",
    "alcohol <- age >= 18\n",
    "print(paste(\"Alkohol erlaubt:\", alcohol))"
   ]
  },
  {
   "cell_type": "code",
   "execution_count": null,
   "metadata": {
    "vscode": {
     "languageId": "r"
    }
   },
   "outputs": [],
   "source": []
  }
 ],
 "metadata": {
  "kernelspec": {
   "display_name": "R",
   "language": "R",
   "name": "ir"
  },
  "language_info": {
   "codemirror_mode": "r",
   "file_extension": ".r",
   "mimetype": "text/x-r-source",
   "name": "R",
   "pygments_lexer": "r",
   "version": "4.4.1"
  }
 },
 "nbformat": 4,
 "nbformat_minor": 2
}
