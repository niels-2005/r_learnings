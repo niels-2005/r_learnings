{
 "cells": [
  {
   "cell_type": "markdown",
   "metadata": {},
   "source": [
    "# Control Structures"
   ]
  },
  {
   "cell_type": "markdown",
   "metadata": {},
   "source": [
    "### if"
   ]
  },
  {
   "cell_type": "code",
   "execution_count": 2,
   "metadata": {
    "vscode": {
     "languageId": "r"
    }
   },
   "outputs": [
    {
     "name": "stdout",
     "output_type": "stream",
     "text": [
      "[1] \"Es soll keine E-Mail verschickt werden!\"\n"
     ]
    }
   ],
   "source": [
    "answer <- readline(\"Soll ein Newsletter verschickt werden? (Y / N):\")\n",
    "\n",
    "if (answer == \"Y\") {\n",
    "  print(\"Es wurde mit einem Y geantwortet - E-Mail soll verschickt werden\")\n",
    "} else {\n",
    "  print(\"Es soll keine E-Mail verschickt werden!\")\n",
    "} "
   ]
  },
  {
   "cell_type": "markdown",
   "metadata": {},
   "source": [
    "### Logical Matrix"
   ]
  },
  {
   "cell_type": "code",
   "execution_count": 3,
   "metadata": {
    "vscode": {
     "languageId": "r"
    }
   },
   "outputs": [
    {
     "name": "stdout",
     "output_type": "stream",
     "text": [
      "      a     b   AND    OR NOT_a NOT_OR\n",
      "1  TRUE  TRUE  TRUE  TRUE FALSE  FALSE\n",
      "2  TRUE FALSE FALSE  TRUE FALSE  FALSE\n",
      "3 FALSE  TRUE FALSE  TRUE  TRUE  FALSE\n",
      "4 FALSE FALSE FALSE FALSE  TRUE   TRUE\n"
     ]
    }
   ],
   "source": [
    "df <- data.frame(a = c(T, T, F, F), b = c(T, F, T, F))\n",
    "df$AND <- df$a & df$b\n",
    "df$OR <- df$a | df$b\n",
    "df$NOT_a <- !df$a\n",
    "\n",
    "df$NOT_OR <- !(df$a | df$b)\n",
    "\n",
    "print(df)"
   ]
  },
  {
   "cell_type": "markdown",
   "metadata": {},
   "source": [
    "### ifelse"
   ]
  },
  {
   "cell_type": "code",
   "execution_count": 4,
   "metadata": {
    "vscode": {
     "languageId": "r"
    }
   },
   "outputs": [
    {
     "name": "stdout",
     "output_type": "stream",
     "text": [
      " [1]  1  4  3  8  5 12  7 16  9 20\n"
     ]
    }
   ],
   "source": [
    "d <- 1:10\n",
    "\n",
    "# ergebnis <- ifelse(d %% 2 == 0, 0, d)\n",
    "ergebnis <- ifelse(d %% 2 == 0, d * 2, d)\n",
    "print(ergebnis)"
   ]
  },
  {
   "cell_type": "markdown",
   "metadata": {},
   "source": [
    "### for loop"
   ]
  },
  {
   "cell_type": "code",
   "execution_count": 7,
   "metadata": {
    "vscode": {
     "languageId": "r"
    }
   },
   "outputs": [
    {
     "name": "stdout",
     "output_type": "stream",
     "text": [
      "[1] \"Das Jahr: 2014\"\n",
      "[1] \"Das Jahr: 2016\"\n",
      "[1] \"Das Jahr: 2017\"\n"
     ]
    }
   ],
   "source": [
    "for (year in 2014:2017) {\n",
    "  if (year == 2015) {\n",
    "    next\n",
    "  }\n",
    "  print(paste(\"Das Jahr:\", year))\n",
    "}"
   ]
  },
  {
   "cell_type": "markdown",
   "metadata": {},
   "source": [
    "### while loop"
   ]
  },
  {
   "cell_type": "code",
   "execution_count": 8,
   "metadata": {
    "vscode": {
     "languageId": "r"
    }
   },
   "outputs": [
    {
     "name": "stdout",
     "output_type": "stream",
     "text": [
      "[1] \"Y\"\n"
     ]
    }
   ],
   "source": [
    "answer.valid <- F\n",
    "while (answer.valid == F) {\n",
    "  answer <- readline(\"Weiter machen? (Y/N)\")\n",
    "  if (answer == \"Y\" | answer == \"N\") {\n",
    "    answer.valid = T\n",
    "  }\n",
    "}\n",
    "\n",
    "print(answer)"
   ]
  },
  {
   "cell_type": "code",
   "execution_count": null,
   "metadata": {
    "vscode": {
     "languageId": "r"
    }
   },
   "outputs": [],
   "source": []
  }
 ],
 "metadata": {
  "kernelspec": {
   "display_name": "R",
   "language": "R",
   "name": "ir"
  },
  "language_info": {
   "codemirror_mode": "r",
   "file_extension": ".r",
   "mimetype": "text/x-r-source",
   "name": "R",
   "pygments_lexer": "r",
   "version": "4.4.1"
  }
 },
 "nbformat": 4,
 "nbformat_minor": 2
}
