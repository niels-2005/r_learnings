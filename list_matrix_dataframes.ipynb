{
 "cells": [
  {
   "cell_type": "markdown",
   "metadata": {},
   "source": [
    "### Lists"
   ]
  },
  {
   "cell_type": "code",
   "execution_count": 14,
   "metadata": {
    "vscode": {
     "languageId": "r"
    }
   },
   "outputs": [
    {
     "name": "stdout",
     "output_type": "stream",
     "text": [
      "[[1]]\n",
      "[1] 1\n",
      "\n",
      "[[2]]\n",
      "[1] 2\n",
      "\n",
      "[[3]]\n",
      "[1] 3\n",
      "\n",
      "[[4]]\n",
      "[1] \"Hallo\" \"Welt\" \n",
      "\n",
      "[1] \"---\"\n",
      "[1] \"Hallo\" \"Welt\" \n",
      "[1] \"---\"\n",
      "[1] \"1\"     \"2\"     \"3\"     \"Hallo\" \"Welt\" \n"
     ]
    }
   ],
   "source": [
    "data.list <- list(1, 2, 3, c(\"Hallo\", \"Welt\"))\n",
    "print(data.list)\n",
    "print(\"---\")\n",
    "\n",
    "print(data.list[[4]])\n",
    "\n",
    "print(\"---\")\n",
    "print(unlist(data.list))"
   ]
  },
  {
   "cell_type": "markdown",
   "metadata": {},
   "source": [
    "### Name Elements"
   ]
  },
  {
   "cell_type": "code",
   "execution_count": 17,
   "metadata": {
    "vscode": {
     "languageId": "r"
    }
   },
   "outputs": [
    {
     "name": "stdout",
     "output_type": "stream",
     "text": [
      "[1] \"Max\"\n",
      "[1] \"Max\"\n",
      "[1] \"Max\"\n",
      "[1] \"Deutschland\"\n"
     ]
    }
   ],
   "source": [
    "person <- list(firstname = \"Max\", lastname = \"Mustermann\", \"Deutschland\")\n",
    "\n",
    "# person$firstname <- \"Maximilian\"\n",
    "\n",
    "print(person$firstname)\n",
    "print(person[[\"firstname\"]])\n",
    "\n",
    "attr <- \"firstname\"\n",
    "print(person[[attr]])\n",
    "\n",
    "print(person[[3]])"
   ]
  },
  {
   "cell_type": "markdown",
   "metadata": {},
   "source": [
    "### Matrix"
   ]
  },
  {
   "cell_type": "code",
   "execution_count": 18,
   "metadata": {
    "vscode": {
     "languageId": "r"
    }
   },
   "outputs": [
    {
     "name": "stdout",
     "output_type": "stream",
     "text": [
      "     [,1] [,2]\n",
      "[1,]    1    2\n",
      "[2,]    3    4\n",
      "[3,]    5    6\n",
      "[1] 1 2\n",
      "[1] 1 3 5\n",
      "[1] 2\n",
      "     [,1] [,2]\n",
      "[1,]    3    4\n",
      "[2,]    5    6\n"
     ]
    }
   ],
   "source": [
    "m <- matrix(data = 1:6, nrow = 3, ncol = 2, byrow = T)\n",
    "# print(m * 2)\n",
    "print(m)\n",
    "\n",
    "print(m[1,]) # Zeile\n",
    "print(m[,1]) # Spalte\n",
    "print(m[1, 2]) # Auf ein einzelnes Element zugreifen\n",
    "print(m[2:3,])"
   ]
  },
  {
   "cell_type": "markdown",
   "metadata": {},
   "source": [
    "### Dimnames"
   ]
  },
  {
   "cell_type": "code",
   "execution_count": 21,
   "metadata": {
    "vscode": {
     "languageId": "r"
    }
   },
   "outputs": [
    {
     "name": "stdout",
     "output_type": "stream",
     "text": [
      "         age newsletter dsgvo\n",
      "Person 1  25          1     0\n",
      "Person 2  26          1     1\n"
     ]
    }
   ],
   "source": [
    "# Alter; Newsletter; Datenschutz aktzepiert?\n",
    "p1 <- c(25, 1, 0)\n",
    "p2 <- c(26, 1, 1)\n",
    "\n",
    "m <- rbind(p1, p2)\n",
    "\n",
    "# Spalten und Zeilen benennen\n",
    "dimnames(m) <- list(\n",
    "  c(\"Person 1\", \"Person 2\"), \n",
    "  c(\"age\", \"newsletter\", \"dsgvo\")\n",
    ")\n",
    "print(m)"
   ]
  },
  {
   "cell_type": "markdown",
   "metadata": {},
   "source": [
    "### Data access Dimnames"
   ]
  },
  {
   "cell_type": "code",
   "execution_count": 22,
   "metadata": {
    "vscode": {
     "languageId": "r"
    }
   },
   "outputs": [
    {
     "name": "stdout",
     "output_type": "stream",
     "text": [
      "         age newsletter\n",
      "Person 1  25          1\n",
      "Person 2  26          1\n"
     ]
    }
   ],
   "source": [
    "# Alter; Newsletter; Datenschutz aktzepiert?\n",
    "p1 <- c(25, 1, 0)\n",
    "p2 <- c(26, 1, 1)\n",
    "\n",
    "m <- rbind(p1, p2)\n",
    "\n",
    "# Spalten und Zeilen benennen\n",
    "dimnames(m) <- list(\n",
    "  c(\"Person 1\", \"Person 2\"), \n",
    "  c(\"age\", \"newsletter\", \"dsgvo\")\n",
    ")\n",
    "\n",
    "# nur Spalte age und newsletter\n",
    "print(m[, c(\"age\", \"newsletter\")])"
   ]
  },
  {
   "cell_type": "markdown",
   "metadata": {},
   "source": [
    "### DataFrame"
   ]
  },
  {
   "cell_type": "code",
   "execution_count": 26,
   "metadata": {
    "vscode": {
     "languageId": "r"
    }
   },
   "outputs": [
    {
     "name": "stdout",
     "output_type": "stream",
     "text": [
      "  age   name\n",
      "1  21    Max\n",
      "2  25 Monika\n",
      "3  29  Laura\n"
     ]
    }
   ],
   "source": [
    "df <- data.frame(age = c(21, 25, 29), name = c(\"Max\", \"Monika\", \"Laura\"))\n",
    "print(df)"
   ]
  },
  {
   "cell_type": "markdown",
   "metadata": {},
   "source": [
    "### Read DataFrames"
   ]
  },
  {
   "cell_type": "code",
   "execution_count": 32,
   "metadata": {
    "vscode": {
     "languageId": "r"
    }
   },
   "outputs": [
    {
     "name": "stdout",
     "output_type": "stream",
     "text": [
      "                Name                        Email         Fach\n",
      "1    Mustermann, Max     max.mustermann@gmail.com Franzoesisch\n",
      "2 Magdalena Hoffmann magdalena.hoffmann@gmail.com        Mathe\n",
      "3      Franz Mueller      franz.mueller@gmail.com        Mathe\n",
      "4   Beate Mustermann   beate.mustermann@gmail.com Franzoesisch\n",
      "5  Franziska Mueller  franziska.mueller@gmail.com        Mathe\n",
      "6  Tobias Mustermann  tobias.mustermann@gmail.com        Mathe\n"
     ]
    }
   ],
   "source": [
    "df <- read.table(\"data/daten.csv\", sep = \",\", header = T, encoding = \"UTF-8\")\n",
    "print(df)"
   ]
  },
  {
   "cell_type": "markdown",
   "metadata": {},
   "source": [
    "### Access DataFrame data"
   ]
  },
  {
   "cell_type": "code",
   "execution_count": 35,
   "metadata": {
    "vscode": {
     "languageId": "r"
    }
   },
   "outputs": [
    {
     "name": "stdout",
     "output_type": "stream",
     "text": [
      "[1] \"max.mustermann@gmail.com\"     \"magdalena.hoffmann@gmail.com\"\n",
      "[3] \"franz.mueller@gmail.com\"      \"beate.mustermann@gmail.com\"  \n",
      "[5] \"franziska.mueller@gmail.com\"  \"tobias.mustermann@gmail.com\" \n",
      "             Name                    Email         Fach\n",
      "1 Mustermann, Max max.mustermann@gmail.com Franzoesisch\n",
      "[1] \"Mustermann, Max\"    \"Magdalena Hoffmann\" \"Franz Mueller\"     \n",
      "[4] \"Beate Mustermann\"   \"Franziska Mueller\"  \"Tobias Mustermann\" \n",
      "                Name                        Email\n",
      "1    Mustermann, Max     max.mustermann@gmail.com\n",
      "2 Magdalena Hoffmann magdalena.hoffmann@gmail.com\n",
      "3      Franz Mueller      franz.mueller@gmail.com\n",
      "4   Beate Mustermann   beate.mustermann@gmail.com\n",
      "5  Franziska Mueller  franziska.mueller@gmail.com\n",
      "6  Tobias Mustermann  tobias.mustermann@gmail.com\n",
      "[1]  TRUE FALSE FALSE  TRUE FALSE FALSE\n",
      "[1] \"----\"\n",
      "[1] \"Mustermann, Max\"  \"Beate Mustermann\"\n",
      "[1] \"Mustermann, Max\"  \"Beate Mustermann\"\n"
     ]
    }
   ],
   "source": [
    "print(df[,2]) # Auf die 2. Spalte zugreifen\n",
    "print(df[1, ]) # Auf die 1. Zeile zugreifen\n",
    "\n",
    "print(df$Name) # Auf eine Spalte zugreifen\n",
    "print(df[, c(\"Name\", \"Email\")]) # Auf mehrere Spalten zugreifen\n",
    "\n",
    "print(df$Fach == \"Franzoesisch\") # nur mit Fach == Franzoesisch als Boolean\n",
    "\n",
    "print(\"----\")\n",
    "print(df[df$Fach == \"Franzoesisch\", ]$Name) # Namen der Personen wo Fach = Franzoesisch\n",
    "print(df[df$Fach == \"Franzoesisch\", \"Name\"]) # Namen der Personen wo Fach = Franzoesisch"
   ]
  },
  {
   "cell_type": "code",
   "execution_count": 37,
   "metadata": {
    "vscode": {
     "languageId": "r"
    }
   },
   "outputs": [
    {
     "name": "stdout",
     "output_type": "stream",
     "text": [
      "[1] 6\n",
      "[1] 3\n",
      "[1] 6 3\n",
      "[1] 4\n",
      "[1] 2\n",
      "[1] \"Franzoesisch\" \"Mathe\"       \n"
     ]
    }
   ],
   "source": [
    "print(nrow(df))\n",
    "print(ncol(df))\n",
    "\n",
    "print(dim(df))\n",
    "\n",
    "print(nrow(df[df$Fach == \"Mathe\", ]))\n",
    "\n",
    "subjects <- unique(df$Fach)\n",
    "print(length(subjects))\n",
    "print(subjects)"
   ]
  },
  {
   "cell_type": "markdown",
   "metadata": {},
   "source": [
    "### DataFrame and Factor"
   ]
  },
  {
   "cell_type": "code",
   "execution_count": 39,
   "metadata": {
    "vscode": {
     "languageId": "r"
    }
   },
   "outputs": [
    {
     "name": "stdout",
     "output_type": "stream",
     "text": [
      "[1] Franzoesisch Mathe        Mathe        Franzoesisch Mathe       \n",
      "[6] Mathe       \n",
      "Levels: Franzoesisch Mathe\n",
      "[1] \"------\"\n",
      "     Name              Email                     Fach  \n",
      " Length:6           Length:6           Franzoesisch:2  \n",
      " Class :character   Class :character   Mathe       :4  \n",
      " Mode  :character   Mode  :character                   \n"
     ]
    }
   ],
   "source": [
    "df$Fach <- factor(df$Fach)\n",
    "print(df$Fach)\n",
    "\n",
    "print(\"------\")\n",
    "print(summary(df))"
   ]
  },
  {
   "cell_type": "code",
   "execution_count": null,
   "metadata": {
    "vscode": {
     "languageId": "r"
    }
   },
   "outputs": [],
   "source": []
  }
 ],
 "metadata": {
  "kernelspec": {
   "display_name": "R",
   "language": "R",
   "name": "ir"
  },
  "language_info": {
   "codemirror_mode": "r",
   "file_extension": ".r",
   "mimetype": "text/x-r-source",
   "name": "R",
   "pygments_lexer": "r",
   "version": "4.4.1"
  }
 },
 "nbformat": 4,
 "nbformat_minor": 2
}
