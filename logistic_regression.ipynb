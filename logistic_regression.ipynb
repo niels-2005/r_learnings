{
 "cells": [
  {
   "cell_type": "markdown",
   "metadata": {},
   "source": [
    "### Logistic Regression (1)"
   ]
  },
  {
   "cell_type": "code",
   "execution_count": 1,
   "metadata": {
    "vscode": {
     "languageId": "r"
    }
   },
   "outputs": [
    {
     "name": "stderr",
     "output_type": "stream",
     "text": [
      "Loading required package: ggplot2\n",
      "\n",
      "Loading required package: lattice\n",
      "\n"
     ]
    },
    {
     "name": "stdout",
     "output_type": "stream",
     "text": [
      "       FALSE      TRUE\n",
      "1 0.07658203 0.9234180\n",
      "2 0.80472487 0.1952751\n"
     ]
    }
   ],
   "source": [
    "library(data.table)\n",
    "library(caret)\n",
    "\n",
    "dt <- fread(\"data/cars.csv\")\n",
    "\n",
    "# binary target\n",
    "dt[, is.american := as.factor(Origin == \"US\")]\n",
    "\n",
    "# logistic Regression for binary target (is.american)\n",
    "# family = \"binomial\" because target is 0 or 1\n",
    "# trainControl(method = \"cv\") = using cross validation\n",
    "model <- train(is.american ~ Weight, data = dt, method = \"glm\",\n",
    "               family = \"binomial\", trControl = trainControl(method = \"cv\"))\n",
    "\n",
    "# type = \"prob\", vorhersagen als Wahrscheinlichkeiten\n",
    "my.cars <- data.table(Weight = c(3500, 2000))\n",
    "print(predict(model, newdata = my.cars, type = \"prob\"))"
   ]
  },
  {
   "cell_type": "markdown",
   "metadata": {},
   "source": [
    "### Logistic Regression (2)"
   ]
  },
  {
   "cell_type": "code",
   "execution_count": 2,
   "metadata": {
    "vscode": {
     "languageId": "r"
    }
   },
   "outputs": [
    {
     "name": "stdout",
     "output_type": "stream",
     "text": [
      "      FALSE      TRUE\n",
      "1 0.1291766 0.8708234\n",
      "2 0.8731127 0.1268873\n"
     ]
    }
   ],
   "source": [
    "library(data.table)\n",
    "library(caret)\n",
    "\n",
    "dt <- fread(\"data/cars.csv\")\n",
    "\n",
    "# binary target\n",
    "dt[, is.american := as.factor(Origin == \"US\")]\n",
    "\n",
    "# upsampling data, x = all data without is.american, y = is.american\n",
    "dt <- upSample(x = dt[, -\"is.american\"], y = dt$is.american, yname = \"is.american\")\n",
    "\n",
    "# train glm model for binary target with cross validation\n",
    "model <- train(is.american ~ Weight, data = dt, method = \"glm\",\n",
    "               family = \"binomial\", trControl = trainControl(method = \"cv\"))\n",
    "\n",
    "# new data and predict on it, return probabilities\n",
    "my.cars <- data.table(Weight = c(3500, 2000))\n",
    "print(predict(model, newdata = my.cars, type = \"prob\"))"
   ]
  }
 ],
 "metadata": {
  "kernelspec": {
   "display_name": "R",
   "language": "R",
   "name": "ir"
  },
  "language_info": {
   "codemirror_mode": "r",
   "file_extension": ".r",
   "mimetype": "text/x-r-source",
   "name": "R",
   "pygments_lexer": "r",
   "version": "4.4.1"
  }
 },
 "nbformat": 4,
 "nbformat_minor": 2
}
