{
 "cells": [
  {
   "cell_type": "markdown",
   "metadata": {},
   "source": [
    "### K Nearest Neighbor"
   ]
  },
  {
   "cell_type": "code",
   "execution_count": 1,
   "metadata": {
    "vscode": {
     "languageId": "r"
    }
   },
   "outputs": [
    {
     "name": "stderr",
     "output_type": "stream",
     "text": [
      "Loading required package: ggplot2\n",
      "\n",
      "Loading required package: lattice\n",
      "\n"
     ]
    },
    {
     "name": "stdout",
     "output_type": "stream",
     "text": [
      "  Europe Japan  US\n",
      "1    0.1   0.0 0.9\n",
      "2    0.3   0.7 0.0\n"
     ]
    }
   ],
   "source": [
    "library(data.table)\n",
    "library(caret)\n",
    "\n",
    "dt <- fread(\"data/cars.csv\")\n",
    "dt[, Origin := as.factor(Origin)]\n",
    "\n",
    "# Variable for trainControl with cross validation\n",
    "ctrl <- trainControl(method = \"cv\")\n",
    "\n",
    "# train knn model, origin is target, variables are Weight + MPG\n",
    "# tuneGrid = Hyperparametertuning, testing for k = 3,6,8,10, finding best k\n",
    "model <- train(Origin ~ Weight + MPG, data = dt, method = \"knn\",\n",
    "               tuneGrid = data.frame(k = c(3, 6, 8, 10)),\n",
    "               trControl = ctrl)\n",
    "\n",
    "# create data and predict on it, return values as probabilities\n",
    "my.cars <- data.table(Weight = c(3500, 2000), MPG = c(20, 10))\n",
    "print(predict(model, newdata = my.cars, type = \"prob\"))"
   ]
  },
  {
   "cell_type": "code",
   "execution_count": null,
   "metadata": {
    "vscode": {
     "languageId": "r"
    }
   },
   "outputs": [],
   "source": []
  }
 ],
 "metadata": {
  "kernelspec": {
   "display_name": "R",
   "language": "R",
   "name": "ir"
  },
  "language_info": {
   "codemirror_mode": "r",
   "file_extension": ".r",
   "mimetype": "text/x-r-source",
   "name": "R",
   "pygments_lexer": "r",
   "version": "4.4.1"
  }
 },
 "nbformat": 4,
 "nbformat_minor": 2
}
