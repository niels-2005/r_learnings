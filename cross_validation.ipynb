{
 "cells": [
  {
   "cell_type": "code",
   "execution_count": 2,
   "metadata": {
    "vscode": {
     "languageId": "r"
    }
   },
   "outputs": [
    {
     "name": "stdout",
     "output_type": "stream",
     "text": [
      "Linear Regression \n",
      "\n",
      "16210 samples\n",
      "    3 predictor\n",
      "\n",
      "No pre-processing\n",
      "Resampling: Cross-Validated (10 fold, repeated 3 times) \n",
      "Summary of sample sizes: 14589, 14587, 14589, 14589, 14589, 14588, ... \n",
      "Resampling results:\n",
      "\n",
      "  RMSE      Rsquared   MAE     \n",
      "  257815.8  0.5107972  170421.3\n",
      "\n",
      "Tuning parameter 'intercept' was held constant at a value of TRUE\n"
     ]
    }
   ],
   "source": [
    "library(caret)\n",
    "library(data.table)\n",
    "library(ggplot2)\n",
    "\n",
    "dt <- fread(\"data/kc_house_data.csv\")\n",
    "\n",
    "# train test split in R\n",
    "i <- createDataPartition(dt$price, p = 0.75, list = F)\n",
    "dt.train <- dt[i]\n",
    "dt.test <- dt[-i]\n",
    "\n",
    "model <- train(price ~ bedrooms + bathrooms + sqft_living, data = dt.train, method = \"lm\", \n",
    "               trControl = trainControl(method = \"repeatedcv\", repeats = 3))\n",
    "\n",
    "print(model)"
   ]
  }
 ],
 "metadata": {
  "kernelspec": {
   "display_name": "R",
   "language": "R",
   "name": "ir"
  },
  "language_info": {
   "codemirror_mode": "r",
   "file_extension": ".r",
   "mimetype": "text/x-r-source",
   "name": "R",
   "pygments_lexer": "r",
   "version": "4.4.1"
  }
 },
 "nbformat": 4,
 "nbformat_minor": 2
}
