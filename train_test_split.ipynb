{
 "cells": [
  {
   "cell_type": "code",
   "execution_count": 1,
   "metadata": {
    "vscode": {
     "languageId": "r"
    }
   },
   "outputs": [
    {
     "name": "stderr",
     "output_type": "stream",
     "text": [
      "Loading required package: ggplot2\n",
      "\n",
      "Loading required package: lattice\n",
      "\n"
     ]
    },
    {
     "name": "stdout",
     "output_type": "stream",
     "text": [
      "[1] 0.5108321\n",
      "[1] 0.4977318\n"
     ]
    }
   ],
   "source": [
    "library(caret)\n",
    "library(data.table)\n",
    "library(ggplot2)\n",
    "\n",
    "dt <- fread(\"data/kc_house_data.csv\")\n",
    "\n",
    "# train test split in R\n",
    "i <- createDataPartition(dt$price, p = 0.75, list = F)\n",
    "dt.train <- dt[i]\n",
    "dt.test <- dt[-i]\n",
    "\n",
    "# train linear model with 3 Variables\n",
    "model <- train(price ~ bedrooms + bathrooms + sqft_living, data = dt.train, method = \"lm\", \n",
    "               trControl = trainControl(method = \"none\"))\n",
    "\n",
    "# predict on train data and evaluate with R2 Metric\n",
    "price.pred.train <- predict(model, newdata = dt.train)\n",
    "print(R2(price.pred.train, dt.train$price))\n",
    "\n",
    "# predict on test data and evaluate with R2 Metric\n",
    "price.pred.test <- predict(model, newdata = dt.test)\n",
    "print(R2(price.pred.test, dt.test$price))"
   ]
  }
 ],
 "metadata": {
  "kernelspec": {
   "display_name": "R",
   "language": "R",
   "name": "ir"
  },
  "language_info": {
   "codemirror_mode": "r",
   "file_extension": ".r",
   "mimetype": "text/x-r-source",
   "name": "R",
   "pygments_lexer": "r",
   "version": "4.4.1"
  }
 },
 "nbformat": 4,
 "nbformat_minor": 2
}
