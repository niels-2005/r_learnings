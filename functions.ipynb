{
 "cells": [
  {
   "cell_type": "markdown",
   "metadata": {},
   "source": [
    "# Introduction Functions"
   ]
  },
  {
   "cell_type": "code",
   "execution_count": 4,
   "metadata": {
    "vscode": {
     "languageId": "r"
    }
   },
   "outputs": [
    {
     "name": "stdout",
     "output_type": "stream",
     "text": [
      "[1] \"TEST\"\n",
      "[1] \"TEST!\"\n",
      "[1] \"TEST!!\"\n"
     ]
    }
   ],
   "source": [
    "test3x <- function() {\n",
    "  print(\"TEST\")\n",
    "  print(\"TEST!\")\n",
    "  print(\"TEST!!\")\n",
    "}\n",
    "\n",
    "test3x()"
   ]
  },
  {
   "cell_type": "markdown",
   "metadata": {},
   "source": [
    "### Functions with Parameters"
   ]
  },
  {
   "cell_type": "code",
   "execution_count": 9,
   "metadata": {
    "vscode": {
     "languageId": "r"
    }
   },
   "outputs": [
    {
     "name": "stdout",
     "output_type": "stream",
     "text": [
      "[1] \"Hallo Max\"\n",
      "[1] \"------\"\n",
      "[1] \"Hallo Max\"\n",
      "[1] \"------\"\n",
      "[1] \"Hallo Moritz\"\n",
      "[1] \"------\"\n",
      "[1] \"Hallo Monika\"\n"
     ]
    }
   ],
   "source": [
    "test3x <- function(name, print.line) {\n",
    "    print(paste(\"Hallo\", name))\n",
    "\n",
    "    if (print.line) {\n",
    "        print(\"------\")\n",
    "    }\n",
    "}\n",
    "\n",
    "test3x(\"Max\", T)\n",
    "test3x(\"Max\", print.line = T)\n",
    "test3x(print.line = T, name = \"Moritz\")\n",
    "test3x(name = \"Monika\", print.line = F)"
   ]
  },
  {
   "cell_type": "markdown",
   "metadata": {},
   "source": [
    "### Optional parameters"
   ]
  },
  {
   "cell_type": "code",
   "execution_count": 8,
   "metadata": {
    "vscode": {
     "languageId": "r"
    }
   },
   "outputs": [
    {
     "name": "stdout",
     "output_type": "stream",
     "text": [
      "[1] \"Hallo Max\"\n",
      "[1] \"---------------------\"\n",
      "[1] \"Hallo Max\"\n",
      "[1] \"---------------------\"\n",
      "[1] \"Hallo Moritz\"\n",
      "[1] \"---------------------\"\n",
      "[1] \"Hallo Monika\"\n"
     ]
    }
   ],
   "source": [
    "test3x <- function(name, print.line = T) {\n",
    "  print(paste(\"Hallo\", name))\n",
    "  \n",
    "  if (print.line) {\n",
    "    print(\"---------------------\")\n",
    "  }\n",
    "}\n",
    "\n",
    "test3x(\"Max\")\n",
    "test3x(\"Max\", print.line = T)\n",
    "test3x(print.line = T, name = \"Moritz\")\n",
    "test3x(name = \"Monika\", print.line = F)"
   ]
  },
  {
   "cell_type": "markdown",
   "metadata": {},
   "source": [
    "### return values"
   ]
  },
  {
   "cell_type": "code",
   "execution_count": 14,
   "metadata": {
    "vscode": {
     "languageId": "r"
    }
   },
   "outputs": [
    {
     "name": "stdout",
     "output_type": "stream",
     "text": [
      "[1] \"Ergebnis: 20\"\n"
     ]
    }
   ],
   "source": [
    "add3 <- function(x) {\n",
    "  if (x %% 2 == 0) {\n",
    "    return (x * 2)\n",
    "  } else {\n",
    "    return (x + 2)\n",
    "  }\n",
    "}\n",
    "\n",
    "z <- add3(10)\n",
    "print(paste(\"Ergebnis:\", z))"
   ]
  },
  {
   "cell_type": "markdown",
   "metadata": {},
   "source": [
    "### Scopes"
   ]
  },
  {
   "cell_type": "code",
   "execution_count": 17,
   "metadata": {
    "vscode": {
     "languageId": "r"
    }
   },
   "outputs": [
    {
     "name": "stdout",
     "output_type": "stream",
     "text": [
      "   firstname   lastname\n",
      "      <char>     <char>\n",
      "1:       Max Mustermann\n",
      "2:    Monika Musterfrau\n"
     ]
    }
   ],
   "source": [
    "library(data.table)\n",
    "\n",
    "dt = data.table(\n",
    "  firstname = c(\"Max\", \"Monika\"), \n",
    "  lastname = c(\"Mustermann\", \"Musterfrau\")\n",
    ")\n",
    "\n",
    "f <- function() {\n",
    "  print(dt)\n",
    "}\n",
    "\n",
    "f()"
   ]
  },
  {
   "cell_type": "markdown",
   "metadata": {},
   "source": [
    "### sapply"
   ]
  },
  {
   "cell_type": "code",
   "execution_count": 24,
   "metadata": {
    "vscode": {
     "languageId": "r"
    }
   },
   "outputs": [
    {
     "name": "stdout",
     "output_type": "stream",
     "text": [
      "[1] \"Hallo Welt!\"\n",
      "[1] \"Hallo Mars\"\n",
      "[1] \"Hallo SpaceX\"\n"
     ]
    },
    {
     "data": {
      "text/html": [
       "<style>\n",
       ".dl-inline {width: auto; margin:0; padding: 0}\n",
       ".dl-inline>dt, .dl-inline>dd {float: none; width: auto; display: inline-block}\n",
       ".dl-inline>dt::after {content: \":\\0020\"; padding-right: .5ex}\n",
       ".dl-inline>dt:not(:first-of-type) {padding-left: .5ex}\n",
       "</style><dl class=dl-inline><dt>Hallo Welt!</dt><dd>'Hallo Welt!'</dd><dt>Hallo Mars</dt><dd>'Hallo Mars'</dd><dt>Hallo SpaceX</dt><dd>'Hallo SpaceX'</dd></dl>\n"
      ],
      "text/latex": [
       "\\begin{description*}\n",
       "\\item[Hallo Welt!] 'Hallo Welt!'\n",
       "\\item[Hallo Mars] 'Hallo Mars'\n",
       "\\item[Hallo SpaceX] 'Hallo SpaceX'\n",
       "\\end{description*}\n"
      ],
      "text/markdown": [
       "Hallo Welt!\n",
       ":   'Hallo Welt!'Hallo Mars\n",
       ":   'Hallo Mars'Hallo SpaceX\n",
       ":   'Hallo SpaceX'\n",
       "\n"
      ],
      "text/plain": [
       "   Hallo Welt!     Hallo Mars   Hallo SpaceX \n",
       " \"Hallo Welt!\"   \"Hallo Mars\" \"Hallo SpaceX\" "
      ]
     },
     "metadata": {},
     "output_type": "display_data"
    },
    {
     "name": "stdout",
     "output_type": "stream",
     "text": [
      "[1] 3.162278 3.872983 5.000000\n",
      "[1] 20 30 50\n"
     ]
    }
   ],
   "source": [
    "msg <- c(\"Hallo Welt!\", \"Hallo Mars\", \"Hallo SpaceX\")\n",
    "\n",
    "sapply(msg, print)\n",
    "\n",
    "n <- c(10, 15, 25)\n",
    "n.sqrt <- sapply(n, sqrt)\n",
    "print(n.sqrt)\n",
    "\n",
    "n.2 <- sapply(n, function(x) { return (x * 2) })\n",
    "print(n.2)"
   ]
  },
  {
   "cell_type": "markdown",
   "metadata": {},
   "source": [
    "### lapply"
   ]
  },
  {
   "cell_type": "code",
   "execution_count": 25,
   "metadata": {
    "vscode": {
     "languageId": "r"
    }
   },
   "outputs": [
    {
     "name": "stdout",
     "output_type": "stream",
     "text": [
      "[1] \"Max\"\n",
      "[1] \"Moritz\"\n"
     ]
    },
    {
     "data": {
      "text/html": [
       "<dl>\n",
       "\t<dt>$firstname</dt>\n",
       "\t\t<dd>'Max'</dd>\n",
       "\t<dt>$lastname</dt>\n",
       "\t\t<dd>'Moritz'</dd>\n",
       "</dl>\n"
      ],
      "text/latex": [
       "\\begin{description}\n",
       "\\item[\\$firstname] 'Max'\n",
       "\\item[\\$lastname] 'Moritz'\n",
       "\\end{description}\n"
      ],
      "text/markdown": [
       "$firstname\n",
       ":   'Max'\n",
       "$lastname\n",
       ":   'Moritz'\n",
       "\n",
       "\n"
      ],
      "text/plain": [
       "$firstname\n",
       "[1] \"Max\"\n",
       "\n",
       "$lastname\n",
       "[1] \"Moritz\"\n"
      ]
     },
     "metadata": {},
     "output_type": "display_data"
    },
    {
     "name": "stdout",
     "output_type": "stream",
     "text": [
      "$firstname\n",
      "[1] 3\n",
      "\n",
      "$lastname\n",
      "[1] 6\n",
      "\n"
     ]
    }
   ],
   "source": [
    "l <- list(firstname = \"Max\", lastname = \"Moritz\")\n",
    "lapply(l, print)\n",
    "\n",
    "l.nchar <- lapply(l, nchar)\n",
    "print(l.nchar)"
   ]
  },
  {
   "cell_type": "code",
   "execution_count": null,
   "metadata": {
    "vscode": {
     "languageId": "r"
    }
   },
   "outputs": [],
   "source": []
  }
 ],
 "metadata": {
  "kernelspec": {
   "display_name": "R",
   "language": "R",
   "name": "ir"
  },
  "language_info": {
   "codemirror_mode": "r",
   "file_extension": ".r",
   "mimetype": "text/x-r-source",
   "name": "R",
   "pygments_lexer": "r",
   "version": "4.4.1"
  }
 },
 "nbformat": 4,
 "nbformat_minor": 2
}
