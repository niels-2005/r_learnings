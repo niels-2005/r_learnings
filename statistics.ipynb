{
 "cells": [
  {
   "cell_type": "markdown",
   "metadata": {},
   "source": [
    "# Introduction"
   ]
  },
  {
   "cell_type": "code",
   "execution_count": 1,
   "metadata": {
    "vscode": {
     "languageId": "r"
    }
   },
   "outputs": [
    {
     "name": "stdout",
     "output_type": "stream",
     "text": [
      "    Min.  1st Qu.   Median     Mean  3rd Qu.     Max. \n",
      "  -618.1  36169.0  71426.6  74768.3 105839.1 567595.4 \n"
     ]
    },
    {
     "data": {
      "image/png": "[encoded data removed]",
      "text/plain": [
       "plot without title"
      ]
     },
     "metadata": {
      "image/png": {
       "height": 420,
       "width": 420
      }
     },
     "output_type": "display_data"
    }
   ],
   "source": [
    "library(data.table)\n",
    "library(ggplot2)\n",
    "library(scales)\n",
    "\n",
    "dt <- fread(\"data/sf-salaries.csv\")\n",
    "\n",
    "print(summary(dt$TotalPay))\n",
    "\n",
    "\n",
    "g <- ggplot(data = dt, mapping = aes(TotalPay)) +\n",
    "  geom_histogram(binwidth = 100000) + \n",
    "  scale_x_continuous(labels = comma_format(big.mark = \".\", decimal.mark = \",\"))\n",
    "print(g)"
   ]
  },
  {
   "cell_type": "code",
   "execution_count": 2,
   "metadata": {
    "vscode": {
     "languageId": "r"
    }
   },
   "outputs": [
    {
     "name": "stdout",
     "output_type": "stream",
     "text": [
      "       Id         EmployeeName                               JobTitle     \n",
      " Min.   :     1   Length:148654      Transit Operator            :  7036  \n",
      " 1st Qu.: 37164   Class :character   Special Nurse               :  4389  \n",
      " Median : 74328   Mode  :character   Registered Nurse            :  3736  \n",
      " Mean   : 74328                      Public Svc Aide-Public Works:  2518  \n",
      " 3rd Qu.:111491                      Police Officer 3            :  2421  \n",
      " Max.   :148654                      Custodian                   :  2418  \n",
      "                                     (Other)                     :126136  \n",
      "   BasePay          OvertimePay          OtherPay           Benefits        \n",
      " Length:148654      Length:148654      Length:148654      Length:148654     \n",
      " Class :character   Class :character   Class :character   Class :character  \n",
      " Mode  :character   Mode  :character   Mode  :character   Mode  :character  \n",
      "                                                                            \n",
      "                                                                            \n",
      "                                                                            \n",
      "                                                                            \n",
      "    TotalPay        TotalPayBenefits        Year       Notes        \n",
      " Min.   :  -618.1   Min.   :  -618.1   Min.   :2011   Mode:logical  \n",
      " 1st Qu.: 36169.0   1st Qu.: 44065.7   1st Qu.:2012   NA's:148654   \n",
      " Median : 71426.6   Median : 92404.1   Median :2013                 \n",
      " Mean   : 74768.3   Mean   : 93692.6   Mean   :2013                 \n",
      " 3rd Qu.:105839.1   3rd Qu.:132876.5   3rd Qu.:2014                 \n",
      " Max.   :567595.4   Max.   :567595.4   Max.   :2014                 \n",
      "                                                                    \n",
      "           Agency       Status     \n",
      " San Francisco:148654     :110535  \n",
      "                        FT: 22334  \n",
      "                        PT: 15785  \n",
      "                                   \n",
      "                                   \n",
      "                                   \n",
      "                                   \n"
     ]
    }
   ],
   "source": [
    "dt <- fread(\"data/sf-salaries.csv\")\n",
    "dt[, `:=` (\n",
    "  JobTitle = as.factor(JobTitle),\n",
    "  Agency = as.factor(Agency),\n",
    "  Status = as.factor(Status)\n",
    ")]\n",
    "\n",
    "print(summary(dt))"
   ]
  },
  {
   "cell_type": "markdown",
   "metadata": {},
   "source": [
    "### standard deviation"
   ]
  },
  {
   "cell_type": "code",
   "execution_count": 3,
   "metadata": {
    "vscode": {
     "languageId": "r"
    }
   },
   "outputs": [
    {
     "name": "stdout",
     "output_type": "stream",
     "text": [
      "[1] 74768.32\n",
      "[1] 50516.84\n",
      "[1] 50517.01\n",
      "[1] 2551967822\n"
     ]
    }
   ],
   "source": [
    "dt <- fread(\"data/sf-salaries.csv\")\n",
    "dt[, `:=` (\n",
    "  JobTitle = as.factor(JobTitle),\n",
    "  Agency = as.factor(Agency),\n",
    "  Status = as.factor(Status)\n",
    ")]\n",
    "\n",
    "print(mean(dt$TotalPay))\n",
    "print(sqrt(sum((dt$TotalPay - mean(dt$TotalPay))^2)/(length(dt$TotalPay))))\n",
    "print(sd(dt$TotalPay))\n",
    "print(var(dt$TotalPay))"
   ]
  },
  {
   "cell_type": "markdown",
   "metadata": {},
   "source": [
    "### Correlation"
   ]
  },
  {
   "cell_type": "code",
   "execution_count": 5,
   "metadata": {
    "vscode": {
     "languageId": "r"
    }
   },
   "outputs": [
    {
     "name": "stdout",
     "output_type": "stream",
     "text": [
      "[1] 0.9544936\n",
      "[1] 0.5048589\n"
     ]
    }
   ],
   "source": [
    "dt <- fread(\"data/sf-salaries.csv\")\n",
    "dt <- dt[BasePay != \"Not Provided\" & OvertimePay != \"Not Provided\"]\n",
    "dt[, `:=` (\n",
    "  JobTitle = as.factor(JobTitle),\n",
    "  Agency = as.factor(Agency),\n",
    "  Status = as.factor(Status),\n",
    "  BasePay = as.numeric(BasePay),\n",
    "  OvertimePay = as.numeric(OvertimePay)\n",
    ")]\n",
    "\n",
    "print(cor(dt$BasePay, dt$TotalPay, use = \"complete.obs\"))\n",
    "print(cor(dt$OvertimePay, dt$TotalPay, use = \"complete.obs\"))"
   ]
  },
  {
   "cell_type": "code",
   "execution_count": null,
   "metadata": {
    "vscode": {
     "languageId": "r"
    }
   },
   "outputs": [],
   "source": []
  }
 ],
 "metadata": {
  "kernelspec": {
   "display_name": "R",
   "language": "R",
   "name": "ir"
  },
  "language_info": {
   "codemirror_mode": "r",
   "file_extension": ".r",
   "mimetype": "text/x-r-source",
   "name": "R",
   "pygments_lexer": "r",
   "version": "4.4.1"
  }
 },
 "nbformat": 4,
 "nbformat_minor": 2
}
