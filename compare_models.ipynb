{
 "cells": [
  {
   "cell_type": "code",
   "execution_count": 1,
   "metadata": {
    "vscode": {
     "languageId": "r"
    }
   },
   "outputs": [
    {
     "name": "stderr",
     "output_type": "stream",
     "text": [
      "Loading required package: ggplot2\n",
      "\n",
      "Loading required package: lattice\n",
      "\n"
     ]
    },
    {
     "name": "stdout",
     "output_type": "stream",
     "text": [
      "[1] 0.5069198\n"
     ]
    }
   ],
   "source": [
    "library(caret)\n",
    "library(data.table)\n",
    "library(ggplot2)\n",
    "\n",
    "dt <- fread(\"data/kc_house_data.csv\")\n",
    "\n",
    "model <- train(price ~ bedrooms + bathrooms + sqft_living, data = dt, method = \"lm\", \n",
    "               trControl = trainControl(method = \"none\"))\n",
    "\n",
    "price.pred <- predict(model, newdata = dt)\n",
    "\n",
    "print(R2(price.pred, dt$price))"
   ]
  }
 ],
 "metadata": {
  "kernelspec": {
   "display_name": "R",
   "language": "R",
   "name": "ir"
  },
  "language_info": {
   "codemirror_mode": "r",
   "file_extension": ".r",
   "mimetype": "text/x-r-source",
   "name": "R",
   "pygments_lexer": "r",
   "version": "4.4.1"
  }
 },
 "nbformat": 4,
 "nbformat_minor": 2
}
